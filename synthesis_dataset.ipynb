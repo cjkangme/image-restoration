{
 "cells": [
  {
   "cell_type": "markdown",
   "id": "278f6c2d",
   "metadata": {},
   "source": [
    "# 데이터 불러오기"
   ]
  },
  {
   "cell_type": "code",
   "execution_count": 1,
   "id": "aae954fc",
   "metadata": {},
   "outputs": [],
   "source": [
    "%matplotlib inline\n",
    "import os\n",
    "import glob\n",
    "import pandas\n",
    "import cv2 as cv"
   ]
  },
  {
   "cell_type": "code",
   "execution_count": 2,
   "id": "0962764f",
   "metadata": {},
   "outputs": [
    {
     "name": "stdout",
     "output_type": "stream",
     "text": [
      "['data/train_gt/TRAIN_00907.png', 'data/train_gt/TRAIN_21777.png', 'data/train_gt/TRAIN_08657.png', 'data/train_gt/TRAIN_28692.png', 'data/train_gt/TRAIN_22014.png']\n"
     ]
    }
   ],
   "source": [
    "base_path = os.path.join(\"data\")\n",
    "image_paths = glob.glob(os.path.join(base_path, \"train_gt\", \"*.png\"))\n",
    "print(image_paths[:5])"
   ]
  },
  {
   "cell_type": "markdown",
   "id": "32111978",
   "metadata": {},
   "source": [
    "# 마스크 생성 함수"
   ]
  },
  {
   "cell_type": "code",
   "execution_count": 114,
   "id": "03dc7feb",
   "metadata": {},
   "outputs": [],
   "source": [
    "import random\n",
    "import numpy as np\n",
    "import matplotlib.pyplot as plt"
   ]
  },
  {
   "cell_type": "code",
   "execution_count": 115,
   "id": "a879caca",
   "metadata": {},
   "outputs": [],
   "source": [
    "IMAGE_SIZE = 512\n",
    "\n",
    "def generate_squeare(mask):\n",
    "    width = np.random.randint(20, 150)\n",
    "    height = np.random.randint(20, 150)\n",
    "    \n",
    "    min_x = np.random.randint(0, IMAGE_SIZE-width)\n",
    "    min_y = np.random.randint(0, IMAGE_SIZE-height)\n",
    "    \n",
    "    cv.rectangle(mask, (min_x, min_y), (min_x+width, min_y+height), 255, -1)\n",
    "    \n",
    "    return mask\n",
    "\n",
    "def generate_circle(mask):\n",
    "    radius = np.random.randint(20, 150)\n",
    "    \n",
    "    center_x = np.random.randint(radius, IMAGE_SIZE - radius)\n",
    "    center_y = np.random.randint(radius, IMAGE_SIZE - radius)\n",
    "    \n",
    "    cv.circle(mask, (center_x, center_y), radius, 255, -1)\n",
    "    \n",
    "    return mask\n",
    "\n",
    "def generate_polygon(mask):\n",
    "    num_side = random.randint(3, 6)\n",
    "    \n",
    "    u = 2 * np.random.random(num_side) - 1\n",
    "    v = 2 * np.random.random(num_side) - 1\n",
    "    \n",
    "    angles = np.arctan2(v, u)\n",
    "    distance = np.sqrt(u**2 +  v**2)\n",
    "    \n",
    "    sort_idx = np.argsort(angles)\n",
    "    u_sorted = u[sort_idx]\n",
    "    v_sorted = v[sort_idx]\n",
    "    \n",
    "    x_img = ((u + 1) * (IMAGE_SIZE/2)).astype(np.int32)\n",
    "    y_img = ((v + 1) * (IMAGE_SIZE/2)).astype(np.int32)\n",
    "    \n",
    "    points = np.column_stack((x_img, y_img))\n",
    "    \n",
    "    cv.fillPoly(mask, [points], 255)\n",
    "        \n",
    "    return mask\n",
    "        "
   ]
  },
  {
   "cell_type": "code",
   "execution_count": 138,
   "id": "634b29e1",
   "metadata": {},
   "outputs": [
    {
     "data": {
      "image/png": "[encoded data removed]",
      "text/plain": [
       "<Figure size 640x480 with 1 Axes>"
      ]
     },
     "metadata": {},
     "output_type": "display_data"
    }
   ],
   "source": [
    "MASK_MAP = [\"SQUARE\", \"SQUARE\", \"CIRCLE\", \"POLYGON\"]\n",
    "\n",
    "def generate_mask():\n",
    "    mask = np.zeros((512, 512), dtype=\"uint8\")\n",
    "    idx = np.random.randint(0, 4)\n",
    "    \n",
    "    if MASK_MAP[idx] == \"SQUARE\":\n",
    "        mask = generate_squeare(mask)\n",
    "    elif MASK_MAP[idx] == \"CIRCLE\":\n",
    "        mask = generate_circle(mask)\n",
    "    else:\n",
    "        mask = generate_polygon(mask)\n",
    "    \n",
    "    return mask, MASK_MAP[idx]\n",
    "\n",
    "        \n",
    "test_mask, mask_type = generate_mask()\n",
    "plt.imshow(test_mask, cmap=\"gray\")\n",
    "plt.title(f\"test_mask {mask_type}\")\n",
    "plt.show()"
   ]
  },
  {
   "cell_type": "markdown",
   "id": "535b70c1",
   "metadata": {},
   "source": [
    "# 학습 데이터 생성"
   ]
  },
  {
   "cell_type": "code",
   "execution_count": 135,
   "id": "d1f1e9a8",
   "metadata": {},
   "outputs": [],
   "source": [
    "MASK_PATH = os.path.join(base_path, \"train_mask\")\n",
    "IMAGE_PATH = os.path.join(base_path, \"train_input\")\n",
    "os.makedirs(MASK_PATH, exist_ok=True)\n",
    "os.makedirs(IMAGE_PATH, exist_ok=True)"
   ]
  },
  {
   "cell_type": "code",
   "execution_count": 173,
   "id": "8860bafd",
   "metadata": {},
   "outputs": [],
   "source": [
    "for image_path in image_paths:\n",
    "    file_name = image_path.split(\"/\")[-1]\n",
    "    image_rgb = cv.imread(image_path)\n",
    "    image_gray = cv.cvtColor(image_rgb, cv.COLOR_BGR2GRAY)\n",
    "    \n",
    "    mask, _ = generate_mask()\n",
    "    masked_image = np.where(mask == 255, np.random.randint(0, 101), image_gray)\n",
    "\n",
    "    cv.imwrite(os.path.join(MASK_PATH, file_name), mask)\n",
    "    cv.imwrite(os.path.join(IMAGE_PATH, file_name), masked_image)"
   ]
  },
  {
   "cell_type": "markdown",
   "id": "1ad8979c",
   "metadata": {},
   "source": [
    "# 그레이스케일 이미지 생성"
   ]
  },
  {
   "cell_type": "code",
   "execution_count": 3,
   "id": "71908e39",
   "metadata": {},
   "outputs": [],
   "source": [
    "IMAGE_PATH = os.path.join(base_path, \"train_gray\")\n",
    "os.makedirs(IMAGE_PATH, exist_ok=True)\n",
    "\n",
    "for image_path in image_paths:\n",
    "    file_name = image_path.split(\"/\")[-1]\n",
    "    image_rgb = cv.imread(image_path)\n",
    "    image_gray = cv.cvtColor(image_rgb, cv.COLOR_BGR2GRAY)\n",
    "    cv.imwrite(os.path.join(IMAGE_PATH, file_name), image_gray)"
   ]
  }
 ],
 "metadata": {
  "kernelspec": {
   "display_name": "Python 3 (ipykernel)",
   "language": "python",
   "name": "python3"
  },
  "language_info": {
   "codemirror_mode": {
    "name": "ipython",
    "version": 3
   },
   "file_extension": ".py",
   "mimetype": "text/x-python",
   "name": "python",
   "nbconvert_exporter": "python",
   "pygments_lexer": "ipython3",
   "version": "3.12.7"
  }
 },
 "nbformat": 4,
 "nbformat_minor": 5
}
